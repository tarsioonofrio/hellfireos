{
 "cells": [
  {
   "cell_type": "code",
   "execution_count": 2,
   "metadata": {},
   "outputs": [],
   "source": [
    "import numpy as np\n",
    "from scipy import signal\n",
    "from scipy import ndimage\n",
    "from skimage import filters"
   ]
  },
  {
   "cell_type": "code",
   "execution_count": 3,
   "metadata": {},
   "outputs": [
    {
     "data": {
      "text/plain": [
       "array([[-1,  0,  1],\n",
       "       [-2,  0,  2],\n",
       "       [-1,  0,  1]])"
      ]
     },
     "execution_count": 3,
     "metadata": {},
     "output_type": "execute_result"
    }
   ],
   "source": [
    "sobelx = [[-1, 0, 1],\n",
    "\t\t  [-2, 0, 2],\n",
    "\t\t  [-1, 0, 1]]\n",
    "sobelx = np.array(sobelx)\n",
    "sobelx"
   ]
  },
  {
   "cell_type": "code",
   "execution_count": 4,
   "metadata": {},
   "outputs": [
    {
     "data": {
      "text/plain": [
       "array([[-1, -2, -1],\n",
       "       [ 0,  0,  0],\n",
       "       [ 1,  0,  1]])"
      ]
     },
     "execution_count": 4,
     "metadata": {},
     "output_type": "execute_result"
    }
   ],
   "source": [
    "sobely = [[-1, -2, -1],\n",
    "\t\t  [ 0,  0,  0],\n",
    "\t\t  [ 1,  0,  1]]\n",
    "sobely = np.array(sobely)\n",
    "sobely"
   ]
  },
  {
   "cell_type": "code",
   "execution_count": 26,
   "metadata": {},
   "outputs": [
    {
     "data": {
      "text/plain": [
       "array([89, 42,  7, 40, 69, 80, 98, 41,  5, 37, 37, 93, 21, 77, 42, 50, 65,\n",
       "       29, 73, 47, 77, 67, 67, 80, 21, 69, 77, 11, 86,  7, 55, 67, 55,  6,\n",
       "       45, 33, 12, 32,  2, 58, 17,  2, 32, 48, 63, 54, 40, 31])"
      ]
     },
     "execution_count": 26,
     "metadata": {},
     "output_type": "execute_result"
    }
   ],
   "source": [
    "shape = (3,16)\n",
    "size = shape[0]*shape[1]\n",
    "signal = np.random.randint(100, size=size)\n",
    "signal"
   ]
  },
  {
   "cell_type": "code",
   "execution_count": 35,
   "metadata": {},
   "outputs": [],
   "source": [
    "signal = [0x8d, 0x8d, 0x8e, 0x8f, 0x90, 0x90, 0x91, 0x91, 0x93, 0x93, 0x93, 0x93, 0x93, 0x93, 0x93, 0x93,\n",
    "          0x94, 0x94, 0x94, 0x94, 0x94, 0x94, 0x94, 0x94, 0x92, 0x92, 0x92, 0x92, 0x92, 0x92, 0x92, 0x92,\n",
    "          0x90, 0x90, 0x90, 0x8f, 0x8f, 0x8e, 0x8e, 0x8e, 0x8f, 0x8f, 0x8e, 0x8d, 0x8c, 0x8b, 0x8a, 0x8]"
   ]
  },
  {
   "cell_type": "code",
   "execution_count": 36,
   "metadata": {},
   "outputs": [
    {
     "data": {
      "text/plain": [
       "array([[141, 141, 142, 143, 144, 144, 145, 145, 147, 147, 147, 147, 147,\n",
       "        147, 147, 147],\n",
       "       [148, 148, 148, 148, 148, 148, 148, 148, 146, 146, 146, 146, 146,\n",
       "        146, 146, 146],\n",
       "       [144, 144, 144, 143, 143, 142, 142, 142, 143, 143, 142, 141, 140,\n",
       "        139, 138,   8]])"
      ]
     },
     "execution_count": 36,
     "metadata": {},
     "output_type": "execute_result"
    }
   ],
   "source": [
    "signal = np.array(signal)\n",
    "signal = signal.reshape(shape)\n",
    "signal"
   ]
  },
  {
   "cell_type": "code",
   "execution_count": 34,
   "metadata": {},
   "outputs": [
    {
     "data": {
      "text/plain": [
       "array([[  0,   6,   8,   1,   2,   6,   6,   3,   0,  -2,  -2,   0,   2,\n",
       "          1,  -1,   0],\n",
       "       [  1,   3,  -1,  -6,  -3,   0,   3,   4,   1,  -4,  -4,   0,  -1,\n",
       "         -3,  -3,  -1],\n",
       "       [  3,   3,  -7, -11,  -7,  -6,   3,   9,   3,  -2,  -2,   0,  -1,\n",
       "         -2,  -4,  -3]])"
      ]
     },
     "execution_count": 34,
     "metadata": {},
     "output_type": "execute_result"
    }
   ],
   "source": [
    "result = ndimage.sobel(signal)\n",
    "# result[result > 255] = 255\n",
    "# result[result < 0] = 0\n",
    "result"
   ]
  },
  {
   "cell_type": "code",
   "execution_count": 30,
   "metadata": {},
   "outputs": [],
   "source": [
    "out = [0x0, 0x0, 0x0, 0x0, 0x0, 0x0, 0x0, 0x0, 0x0, 0x0, 0x0, 0x0, 0x0, 0x0, 0x0, 0x0, \n",
    "       0x0, 0xb, 0x7, 0x1, 0x4, 0x8, 0xb, 0xd, 0xf, 0x11, 0x14, 0x18, 0x1c, 0x20, 0x23, 0x0, \n",
    "       0x0, 0x0, 0x0, 0x0, 0x0, 0x0, 0x0, 0x0, 0x0, 0x0, 0x0, 0x0, 0x0, 0x0, 0x0, 0x00]"
   ]
  },
  {
   "cell_type": "code",
   "execution_count": 31,
   "metadata": {},
   "outputs": [
    {
     "data": {
      "text/plain": [
       "array([[ 0,  0,  0,  0,  0,  0,  0,  0,  0,  0,  0,  0,  0,  0,  0,  0],\n",
       "       [ 0,  5,  1, 11, 17, 24, 29, 28, 25, 24, 24, 24, 25, 27, 29,  0],\n",
       "       [ 0,  0,  0,  0,  0,  0,  0,  0,  0,  0,  0,  0,  0,  0,  0,  0]])"
      ]
     },
     "execution_count": 31,
     "metadata": {},
     "output_type": "execute_result"
    }
   ],
   "source": [
    "out = np.array(out)\n",
    "out.reshape(shape)\n"
   ]
  },
  {
   "cell_type": "code",
   "execution_count": null,
   "metadata": {},
   "outputs": [],
   "source": []
  }
 ],
 "metadata": {
  "kernelspec": {
   "display_name": "cling",
   "language": "python",
   "name": "cling"
  },
  "language_info": {
   "codemirror_mode": {
    "name": "ipython",
    "version": 3
   },
   "file_extension": ".py",
   "mimetype": "text/x-python",
   "name": "python",
   "nbconvert_exporter": "python",
   "pygments_lexer": "ipython3",
   "version": "3.8.3"
  }
 },
 "nbformat": 4,
 "nbformat_minor": 4
}
